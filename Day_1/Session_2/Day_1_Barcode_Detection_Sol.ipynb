{
  "nbformat": 4,
  "nbformat_minor": 0,
  "metadata": {
    "colab": {
      "provenance": [],
      "include_colab_link": true
    },
    "kernelspec": {
      "name": "python3",
      "display_name": "Python 3"
    },
    "language_info": {
      "name": "python"
    }
  },
  "cells": [
    {
      "cell_type": "markdown",
      "metadata": {
        "id": "view-in-github",
        "colab_type": "text"
      },
      "source": [
        "<a href=\"https://colab.research.google.com/github/Raviteja654321/CVIT_Workshop/blob/main/Day_1/Session_2/Day_1_Barcode_Detection_Sol.ipynb\" target=\"_parent\"><img src=\"https://colab.research.google.com/assets/colab-badge.svg\" alt=\"Open In Colab\"/></a>"
      ]
    },
    {
      "cell_type": "code",
      "source": [
        "import numpy as np\n",
        "import cv2\n",
        "from google.colab.patches import cv2_imshow\n",
        "import math\n",
        "from collections import defaultdict\n",
        "from matplotlib import pyplot as plt"
      ],
      "metadata": {
        "id": "7GU9nrR6Wt3J"
      },
      "execution_count": null,
      "outputs": []
    },
    {
      "cell_type": "markdown",
      "source": [
        "Please download the image 'input.png' from the given link (https://drive.google.com/file/d/1oQSxTCFiJ2yI7LsmQE3grrYKAdKWPj6Q/view?usp=share_link) and upload it to the current directory of this colab session."
      ],
      "metadata": {
        "id": "033CJY0eF2QE"
      }
    },
    {
      "cell_type": "code",
      "source": [
        "original = cv2.imread('./input.png')\n",
        "image = original.copy()\n",
        "image = cv2.cvtColor(image, cv2.COLOR_BGR2GRAY)"
      ],
      "metadata": {
        "id": "-ueSBzdgd-zP",
        "outputId": "a988fa07-5f2e-44de-c6f2-d0df2b829737",
        "colab": {
          "base_uri": "https://localhost:8080/",
          "height": 200
        }
      },
      "execution_count": null,
      "outputs": [
        {
          "output_type": "error",
          "ename": "AttributeError",
          "evalue": "ignored",
          "traceback": [
            "\u001b[0;31m---------------------------------------------------------------------------\u001b[0m",
            "\u001b[0;31mAttributeError\u001b[0m                            Traceback (most recent call last)",
            "\u001b[0;32m<ipython-input-2-0eef1b7f9884>\u001b[0m in \u001b[0;36m<cell line: 2>\u001b[0;34m()\u001b[0m\n\u001b[1;32m      1\u001b[0m \u001b[0moriginal\u001b[0m \u001b[0;34m=\u001b[0m \u001b[0mcv2\u001b[0m\u001b[0;34m.\u001b[0m\u001b[0mimread\u001b[0m\u001b[0;34m(\u001b[0m\u001b[0;34m'./input.png'\u001b[0m\u001b[0;34m)\u001b[0m\u001b[0;34m\u001b[0m\u001b[0;34m\u001b[0m\u001b[0m\n\u001b[0;32m----> 2\u001b[0;31m \u001b[0mimage\u001b[0m \u001b[0;34m=\u001b[0m \u001b[0moriginal\u001b[0m\u001b[0;34m.\u001b[0m\u001b[0mcopy\u001b[0m\u001b[0;34m(\u001b[0m\u001b[0;34m)\u001b[0m\u001b[0;34m\u001b[0m\u001b[0;34m\u001b[0m\u001b[0m\n\u001b[0m\u001b[1;32m      3\u001b[0m \u001b[0mimage\u001b[0m \u001b[0;34m=\u001b[0m \u001b[0mcv2\u001b[0m\u001b[0;34m.\u001b[0m\u001b[0mcvtColor\u001b[0m\u001b[0;34m(\u001b[0m\u001b[0mimage\u001b[0m\u001b[0;34m,\u001b[0m \u001b[0mcv2\u001b[0m\u001b[0;34m.\u001b[0m\u001b[0mCOLOR_BGR2GRAY\u001b[0m\u001b[0;34m)\u001b[0m\u001b[0;34m\u001b[0m\u001b[0;34m\u001b[0m\u001b[0m\n",
            "\u001b[0;31mAttributeError\u001b[0m: 'NoneType' object has no attribute 'copy'"
          ]
        }
      ]
    },
    {
      "cell_type": "code",
      "source": [
        "cv2_imshow(cv2.resize(original,None, fx=0.7, fy=0.7, interpolation = cv2.INTER_CUBIC))"
      ],
      "metadata": {
        "id": "NVTWz0BhePki"
      },
      "execution_count": null,
      "outputs": []
    },
    {
      "cell_type": "code",
      "source": [
        "image = cv2.resize(image,None,fx=0.7, fy=0.7, interpolation = cv2.INTER_CUBIC)\n",
        "original = cv2.resize(original,None,fx=0.7, fy=0.7, interpolation = cv2.INTER_CUBIC)"
      ],
      "metadata": {
        "id": "nUdu4pvYeJgx"
      },
      "execution_count": null,
      "outputs": []
    },
    {
      "cell_type": "code",
      "source": [
        "gradX = cv2.Sobel(image, ddepth = cv2.CV_32F, dx = 1, dy = 0, ksize = -1)\n",
        "gradY = cv2.Sobel(image, ddepth = cv2.CV_32F, dx = 0, dy = 1, ksize = -1)"
      ],
      "metadata": {
        "id": "zQLmXseEeZOk"
      },
      "execution_count": null,
      "outputs": []
    },
    {
      "cell_type": "code",
      "source": [
        "cv2_imshow(cv2.resize(gradX,None, fx=1, fy=1, interpolation = cv2.INTER_CUBIC))"
      ],
      "metadata": {
        "id": "d5R4foXjkxUf"
      },
      "execution_count": null,
      "outputs": []
    },
    {
      "cell_type": "code",
      "source": [
        "cv2_imshow(cv2.resize(gradY,None, fx=1, fy=1, interpolation = cv2.INTER_CUBIC))"
      ],
      "metadata": {
        "id": "3FlfxEJ1kxfm"
      },
      "execution_count": null,
      "outputs": []
    },
    {
      "cell_type": "code",
      "source": [
        "gradient = cv2.sqrt(cv2.add(gradX*gradX, gradY*gradY))\n",
        "gradient = cv2.convertScaleAbs(gradient)  #converts the gradient image to an 8-bit representation.\n",
        "cv2_imshow(cv2.resize(gradient,None, fx=1, fy=1, interpolation = cv2.INTER_CUBIC))"
      ],
      "metadata": {
        "id": "DqEcEGGBhL5x"
      },
      "execution_count": null,
      "outputs": []
    },
    {
      "cell_type": "code",
      "source": [
        "blurred = cv2.blur(gradient, (3, 3))\n",
        "(_, thresh) = cv2.threshold(blurred, 225, 255, cv2.THRESH_BINARY)\n",
        "\n",
        "cv2_imshow(cv2.resize(thresh,None, fx=1, fy=1, interpolation = cv2.INTER_CUBIC))"
      ],
      "metadata": {
        "id": "AGBEiMZLfAPh"
      },
      "execution_count": null,
      "outputs": []
    },
    {
      "cell_type": "code",
      "source": [
        "kernel = cv2.getStructuringElement(cv2.MORPH_RECT, (21, 7))\n",
        "closed = cv2.morphologyEx(thresh, cv2.MORPH_CLOSE, kernel)\n",
        "\n",
        "cv2_imshow(cv2.resize(closed,None, fx=1, fy=1, interpolation = cv2.INTER_CUBIC))\n",
        "\n",
        "closed = cv2.dilate(closed, None, iterations = 7)\n",
        "cnts,hierarchy = cv2.findContours(closed.copy(), cv2.RETR_EXTERNAL,cv2.CHAIN_APPROX_SIMPLE)[-2:]\n",
        "c = sorted(cnts, key = cv2.contourArea, reverse = True)[0]"
      ],
      "metadata": {
        "id": "rN2s_H_eNPZ8"
      },
      "execution_count": null,
      "outputs": []
    },
    {
      "cell_type": "code",
      "source": [
        "cv2_imshow(cv2.resize(closed,None, fx=1, fy=1, interpolation = cv2.INTER_CUBIC))"
      ],
      "metadata": {
        "id": "PmpIoPgkiF3b"
      },
      "execution_count": null,
      "outputs": []
    },
    {
      "cell_type": "code",
      "source": [
        "rect = cv2.minAreaRect(c)\n",
        "box = np.int0(cv2.boxPoints(rect))\n",
        "\n",
        "img = original.copy()"
      ],
      "metadata": {
        "id": "LI9Tsuq3TcMj"
      },
      "execution_count": null,
      "outputs": []
    },
    {
      "cell_type": "code",
      "source": [
        "cv2.drawContours(img, [box], -1, (0, 0, 255), 3)\n",
        "cv2_imshow(img)"
      ],
      "metadata": {
        "id": "Xjy6rO6vS649"
      },
      "execution_count": null,
      "outputs": []
    },
    {
      "cell_type": "code",
      "source": [
        "def getSubImage(rect, src):\n",
        "    center, size, theta = rect \n",
        "    size = [size[1],size[0]]\n",
        "    center, size = tuple(map(int, center)), tuple(map(int, size))\n",
        "    M = cv2.getRotationMatrix2D( center, theta-90, 1)\n",
        "    print(src.shape)\n",
        "    dst = cv2.warpAffine(src, M, [src.shape[1],src.shape[0]])\n",
        "    out = cv2.getRectSubPix(dst, size, center)\n",
        "    return out"
      ],
      "metadata": {
        "id": "7AwW1JEFsy18"
      },
      "execution_count": null,
      "outputs": []
    },
    {
      "cell_type": "code",
      "source": [
        "out = getSubImage(rect, image)\n",
        "cv2_imshow(out)"
      ],
      "metadata": {
        "id": "GDTBDLOegQlF"
      },
      "execution_count": null,
      "outputs": []
    },
    {
      "cell_type": "code",
      "source": [
        "out = out.astype('uint8')\n",
        "out = cv2.cvtColor(out,cv2.COLOR_GRAY2RGB)"
      ],
      "metadata": {
        "id": "mfi-UWnC7-LL"
      },
      "execution_count": null,
      "outputs": []
    },
    {
      "cell_type": "code",
      "source": [
        "encoding_pattern ={\n",
        "        \"111111\":0,\n",
        "        \"110100\":1,\n",
        "        \"110010\":2,\n",
        "        \"110001\":3,\n",
        "        \"101100\":4,\n",
        "        \"100110\":5,\n",
        "        \"100011\":6,\n",
        "        \"101010\":7,\n",
        "        \"101001\":8,\n",
        "        \"100101\":9\n",
        "}\n",
        "left=[\n",
        "    {\n",
        "        \"0100111\":0,\n",
        "        \"0110011\":1,\n",
        "        \"0011011\":2,\n",
        "        \"0100001\":3,\n",
        "        \"0011101\":4,\n",
        "        \"0111001\":5,\n",
        "        \"0000101\":6,\n",
        "        \"0010001\":7,\n",
        "        \"0001001\":8,\n",
        "        \"0010111\":9   \n",
        "    },\n",
        "    {\n",
        "        \"0001101\":0,\n",
        "        \"0011001\":1,\n",
        "        \"0010011\":2,\n",
        "        \"0111101\":3,\n",
        "        \"0100011\":4,\n",
        "        \"0110001\":5,\n",
        "        \"0101111\":6,\n",
        "        \"0111011\":7,\n",
        "        \"0110111\":8,\n",
        "        \"0001011\":9   \n",
        "    }\n",
        "]\n",
        "right = {\n",
        "        \"1110010\":0,\n",
        "        \"1100110\":1,\n",
        "        \"1101100\":2,\n",
        "        \"1000010\":3,\n",
        "        \"1011100\":4,\n",
        "        \"1001110\":5,\n",
        "        \"1010000\":6,\n",
        "        \"1000100\":7,\n",
        "        \"1001000\":8,\n",
        "        \"1110100\":9 \n",
        "}"
      ],
      "metadata": {
        "id": "s_BvQxCyF15O"
      },
      "execution_count": null,
      "outputs": []
    },
    {
      "cell_type": "code",
      "source": [
        "# def binarise(pic, thrs):\n",
        "#   img = cv2.cvtColor(pic, cv2.COLOR_BGR2GRAY)\n",
        "#   ret, threshimg = cv2.threshold(img, thrs, 255, cv2.THRESH_BINARY)\n",
        "#   return threshimg\n",
        "\n",
        "def rgb2gray(rgb):\n",
        "  r, g, b = rgb[:,:,0], rgb[:,:,1], rgb[:,:,2]\n",
        "  gray = 0.2989 * r + 0.5870 * g + 0.1140 * b\n",
        "  return gray\n",
        "\n",
        "def thresholding(img, thrs):\n",
        "  return np.where(img < thrs , 0, 255)\n",
        "\n",
        "def binarise(pic, thrs):\n",
        "  img = rgb2gray(pic)\n",
        "  threshimg = thresholding(img, thrs)\n",
        "  return threshimg"
      ],
      "metadata": {
        "id": "ETOhXAF48Tgm"
      },
      "execution_count": null,
      "outputs": []
    },
    {
      "cell_type": "code",
      "source": [
        "def primitive_crop(row):\n",
        "    indices = np.where(row == 0)[0]\n",
        "    if indices.shape[0] == 0:\n",
        "      return None\n",
        "    return row[indices[0]:indices[-1]+1]"
      ],
      "metadata": {
        "id": "42hTa9Jb8ZaJ"
      },
      "execution_count": null,
      "outputs": []
    },
    {
      "cell_type": "code",
      "source": [
        "def convert_binary(bars,nlb):\n",
        "    binstring = ''\n",
        "    d = 1\n",
        "    cnt = 0\n",
        "    np.append(bars,[-1])\n",
        "    for i in bars:\n",
        "      if i == (255 - d*255):\n",
        "        cnt = cnt + 1\n",
        "      else:\n",
        "        if d == 1:\n",
        "          d = 0\n",
        "          binstring = binstring + '1'*math.ceil(cnt/nlb)\n",
        "        else:\n",
        "          d = 1\n",
        "          binstring = binstring + '0'*math.floor(cnt/nlb)\n",
        "        cnt = 1\n",
        "    return binstring"
      ],
      "metadata": {
        "id": "60J4ZN2-Csb5"
      },
      "execution_count": null,
      "outputs": []
    },
    {
      "cell_type": "code",
      "source": [
        "def find_num_bars(cropped_row):\n",
        "    num = 0\n",
        "    for i in cropped_row:\n",
        "        if i == 255:\n",
        "            break\n",
        "        else:\n",
        "            num += 1\n",
        "    return num"
      ],
      "metadata": {
        "id": "EFRfFE73BllC"
      },
      "execution_count": null,
      "outputs": []
    },
    {
      "cell_type": "code",
      "source": [
        "def find_encoding(bs_list):\n",
        "    par_str = \"\"\n",
        "    for number in range(6):\n",
        "        parity = 0\n",
        "        for i in bs_list[number]:\n",
        "            parity ^= int(i)\n",
        "        par_str += str(parity)\n",
        "    return par_str"
      ],
      "metadata": {
        "id": "vDkfCwK2D7_r"
      },
      "execution_count": null,
      "outputs": []
    },
    {
      "cell_type": "code",
      "source": [
        "def get_digits(binary_string,rep_length):\n",
        "    number_strings = []\n",
        "    start_pos = 3\n",
        "    end_pos = len(binary_string) - 3\n",
        "    i = start_pos\n",
        "    while(i < end_pos):\n",
        "        if i == start_pos + rep_length*6:\n",
        "            i+=5\n",
        "            continue\n",
        "        number_strings.append(str(binary_string[i:i+rep_length]))\n",
        "        i += rep_length\n",
        "    return number_strings"
      ],
      "metadata": {
        "id": "Y8wGt3aKCNfc"
      },
      "execution_count": null,
      "outputs": []
    },
    {
      "cell_type": "code",
      "source": [
        "def decode(encoding_patter_number,bs_list):\n",
        "    info = \"\"\n",
        "    info += str(encoding_pattern[encoding_pattern_number]) + '-'\n",
        "    for i in range(6):\n",
        "        # print(info)\n",
        "        info += str(left[int(encoding_pattern_number[i])][bs_list[i]])\n",
        "    info += '-'\n",
        "    for i in range(6,12):\n",
        "        info += str(right[bs_list[i]])\n",
        "    return info"
      ],
      "metadata": {
        "id": "YfWBbbN0E7XR"
      },
      "execution_count": null,
      "outputs": []
    },
    {
      "cell_type": "code",
      "source": [
        "histr = cv2.calcHist([out],[0],None,[256],[0,256])\n",
        "plt.plot(histr)"
      ],
      "metadata": {
        "id": "ST1dJbA1xPDK"
      },
      "execution_count": null,
      "outputs": []
    },
    {
      "cell_type": "code",
      "source": [
        "image_cropped = out\n",
        "image_cropped = cv2.resize(image_cropped, (219, 100))"
      ],
      "metadata": {
        "id": "Gr4Eby0s75cL"
      },
      "execution_count": null,
      "outputs": []
    },
    {
      "cell_type": "code",
      "source": [
        "bimg = binarise(image_cropped,150)\n",
        "cv2_imshow(bimg)"
      ],
      "metadata": {
        "id": "2xE3YWo2jLHb"
      },
      "execution_count": null,
      "outputs": []
    },
    {
      "cell_type": "code",
      "source": [
        "ctr = defaultdict(int)\n",
        "for row in bimg:\n",
        "  cropped_row = primitive_crop(row)\n",
        "  if cropped_row is None:\n",
        "    continue\n",
        "  try:\n",
        "    nlb = find_num_bars(cropped_row)\n",
        "    binary_string = convert_binary(cropped_row,nlb)\n",
        "    rep_length = 7\n",
        "    num_numbers = 13\n",
        "    bs_list = get_digits(binary_string,rep_length)\n",
        "    encoding_pattern_number = find_encoding(bs_list)\n",
        "    information = decode(encoding_pattern_number,bs_list)\n",
        "    ctr[information] +=1\n",
        "  except:\n",
        "    continue\n",
        "\n",
        "if len(list(ctr.keys())):\n",
        "  print('Decoded Barcode:',list(ctr.keys())[0])\n",
        "else:\n",
        "  print('Barcode Detection Failed!!!')"
      ],
      "metadata": {
        "id": "S6snlnDyWoft"
      },
      "execution_count": null,
      "outputs": []
    }
  ]
}