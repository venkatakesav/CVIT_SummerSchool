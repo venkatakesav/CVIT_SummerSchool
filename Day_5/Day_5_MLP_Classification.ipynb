{
  "nbformat": 4,
  "nbformat_minor": 0,
  "metadata": {
    "colab": {
      "provenance": [],
      "include_colab_link": true
    },
    "kernelspec": {
      "name": "python3",
      "display_name": "Python 3"
    },
    "language_info": {
      "name": "python"
    }
  },
  "cells": [
    {
      "cell_type": "markdown",
      "metadata": {
        "id": "view-in-github",
        "colab_type": "text"
      },
      "source": [
        "<a href=\"https://colab.research.google.com/github/Raviteja654321/CVIT_Workshop/blob/main/Day_5/Day_5_MLP_Classification.ipynb\" target=\"_parent\"><img src=\"https://colab.research.google.com/assets/colab-badge.svg\" alt=\"Open In Colab\"/></a>"
      ]
    },
    {
      "cell_type": "markdown",
      "source": [
        "Link to the dataset: https://drive.google.com/drive/folders/1H6MhJefZ7DlNZ_yhkIyaoennSQvyonRR?usp=sharing\n",
        "## Solutions\n",
        "here https://kapernikov.com/tutorial-image-classification-with-scikit-learn/"
      ],
      "metadata": {
        "id": "zeLpBYLRjLVz"
      }
    },
    {
      "cell_type": "code",
      "source": [
        "%matplotlib inline\n",
        " \n",
        "import matplotlib.pyplot as plt\n",
        "import numpy as np\n",
        "import os\n",
        "import pprint\n",
        "pp = pprint.PrettyPrinter(indent=4)"
      ],
      "metadata": {
        "id": "74W28U65_DHt"
      },
      "execution_count": null,
      "outputs": []
    },
    {
      "cell_type": "code",
      "source": [
        "from google.colab import drive\n",
        "drive.mount('/content/drive')"
      ],
      "metadata": {
        "colab": {
          "base_uri": "https://localhost:8080/"
        },
        "id": "CyWAL9ZCT3eB",
        "outputId": "3f07a3e3-29f2-4850-eb68-33ffb50d2179"
      },
      "execution_count": null,
      "outputs": [
        {
          "output_type": "stream",
          "name": "stdout",
          "text": [
            "Mounted at /content/drive\n"
          ]
        }
      ]
    },
    {
      "cell_type": "code",
      "source": [
        "import joblib\n",
        "from skimage.io import imread\n",
        "from skimage.transform import resize\n",
        " \n",
        "def resize_all(src, pklname, include, width=150, height=None):\n",
        "    \"\"\"\n",
        "    load images from path, resize them and write them as arrays to a dictionary, \n",
        "    together with labels and metadata. The dictionary is written to a pickle file \n",
        "    named '{pklname}_{width}x{height}px.pkl'.\n",
        "     \n",
        "    Parameter\n",
        "    ---------\n",
        "    src: str\n",
        "        path to data\n",
        "    pklname: str\n",
        "        path to output file\n",
        "    width: int\n",
        "        target width of the image in pixels\n",
        "    include: set[str]\n",
        "        set containing str\n",
        "    \"\"\"\n",
        "     \n",
        "    height = height if height is not None else width\n",
        "     \n",
        "    data = dict()\n",
        "    data['description'] = 'resized ({0}x{1})animal images in rgb'.format(int(width), int(height))\n",
        "    data['label'] = []\n",
        "    data['filename'] = []\n",
        "    data['data'] = []   \n",
        "     \n",
        "    pklname = f\"{pklname}_{width}x{height}px.pkl\"\n",
        " \n",
        "    # read all images in PATH, resize and write to DESTINATION_PATH\n",
        "    for subdir in os.listdir(src):\n",
        "        if subdir in include:\n",
        "            print(subdir)\n",
        "            current_path = os.path.join(src, subdir)\n",
        " \n",
        "            for file in os.listdir(current_path):\n",
        "                if file[-3:] in {'jpg', 'png'}:\n",
        "                    im = imread(os.path.join(current_path, file))\n",
        "                    im = resize(im, (width, height)) #[:,:,::-1]\n",
        "                    data['label'].append(subdir[:-4])\n",
        "                    data['filename'].append(file)\n",
        "                    data['data'].append(im)\n",
        " \n",
        "        joblib.dump(data, pklname)"
      ],
      "metadata": {
        "id": "k3kUVG7d_N22"
      },
      "execution_count": null,
      "outputs": []
    },
    {
      "cell_type": "code",
      "source": [
        "data_path = fr'/content/drive/MyDrive/Data/AnimalFace/Image'\n",
        "os.listdir(data_path)"
      ],
      "metadata": {
        "id": "9U1xdNrt_1-x",
        "colab": {
          "base_uri": "https://localhost:8080/"
        },
        "outputId": "e52b3214-9671-4b43-bbdb-e54b91f9776f"
      },
      "execution_count": null,
      "outputs": [
        {
          "output_type": "execute_result",
          "data": {
            "text/plain": [
              "['DeerHead',\n",
              " 'TigerHead',\n",
              " 'Natural',\n",
              " 'CatHead',\n",
              " 'ChickenHead',\n",
              " 'BearHead',\n",
              " 'RabbitHead',\n",
              " 'DuckHead',\n",
              " 'LionHead',\n",
              " 'MonkeyHead',\n",
              " 'PigeonHead',\n",
              " 'EagleHead',\n",
              " 'MouseHead',\n",
              " 'SheepHead',\n",
              " 'PandaHead',\n",
              " 'HumanHead',\n",
              " 'PigHead',\n",
              " 'CowHead',\n",
              " 'ElephantHead',\n",
              " 'DogHead',\n",
              " 'WolfHead']"
            ]
          },
          "metadata": {},
          "execution_count": 6
        }
      ]
    },
    {
      "cell_type": "code",
      "source": [
        "base_name = 'animal_faces'\n",
        "width = 80\n",
        " \n",
        "include = {'ChickenHead', 'BearHead', 'ElephantHead', \n",
        "           'EagleHead', 'DeerHead', 'MonkeyHead', 'PandaHead'}\n",
        " \n",
        "resize_all(src=data_path, pklname=base_name, width=width, include=include)\n"
      ],
      "metadata": {
        "id": "NM2zMXfDGDAm",
        "colab": {
          "base_uri": "https://localhost:8080/"
        },
        "outputId": "870d93e8-d4b3-4e8b-fa05-78b7cf1d4365"
      },
      "execution_count": null,
      "outputs": [
        {
          "output_type": "stream",
          "name": "stdout",
          "text": [
            "DeerHead\n",
            "ChickenHead\n",
            "BearHead\n",
            "MonkeyHead\n",
            "EagleHead\n"
          ]
        }
      ]
    },
    {
      "cell_type": "code",
      "source": [
        "from collections import Counter\n",
        " \n",
        "data = joblib.load(f'{base_name}_{width}x{width}px.pkl')\n",
        " \n",
        "print('number of samples: ', len(data['data']))\n",
        "print('keys: ', list(data.keys()))\n",
        "print('description: ', data['description'])\n",
        "print('image shape: ', data['data'][0].shape)\n",
        "print('labels:', np.unique(data['label']))\n",
        " \n",
        "Counter(data['label'])"
      ],
      "metadata": {
        "id": "D6wcX5m_GGps"
      },
      "execution_count": null,
      "outputs": []
    },
    {
      "cell_type": "code",
      "source": [
        "# use np.unique to get all unique values in the list of labels\n",
        "\n",
        "### YOUR CODE GOES HERE\n",
        "\n",
        "# set up the matplotlib figure and axes, based on the number of labels\n",
        "\n",
        "### YOUR CODE GOES HERE\n",
        "\n",
        " \n",
        "# make a plot for every label (equipment) type. The index method returns the \n",
        "# index of the first item corresponding to its search string, label in this case\n",
        "\n",
        "### YOUR CODE GOES HERE\n"
      ],
      "metadata": {
        "id": "F0mJbqFIGTPA"
      },
      "execution_count": null,
      "outputs": []
    },
    {
      "cell_type": "code",
      "source": [
        "# get the data and labels from pickle object\n",
        "### YOUR CODE GOES HERE"
      ],
      "metadata": {
        "id": "RrW3FxbvGZqu"
      },
      "execution_count": null,
      "outputs": []
    },
    {
      "cell_type": "code",
      "source": [
        "#split the data into train and test set\n",
        "### YOUR CODE GOES HERE"
      ],
      "metadata": {
        "id": "k9jKFp11GceF"
      },
      "execution_count": null,
      "outputs": []
    },
    {
      "cell_type": "code",
      "source": [
        "def plot_bar(y, loc='left', relative=True):\n",
        "    width = 0.35\n",
        "    if loc == 'left':\n",
        "        n = -0.5\n",
        "    elif loc == 'right':\n",
        "        n = 0.5\n",
        "     \n",
        "    # calculate counts per type and sort, to ensure their order\n",
        "    unique, counts = np.unique(y, return_counts=True)\n",
        "    sorted_index = np.argsort(unique)\n",
        "    unique = unique[sorted_index]\n",
        "     \n",
        "    if relative:\n",
        "        # plot as a percentage\n",
        "        counts = 100*counts[sorted_index]/len(y)\n",
        "        ylabel_text = '% count'\n",
        "    else:\n",
        "        # plot counts\n",
        "        counts = counts[sorted_index]\n",
        "        ylabel_text = 'count'\n",
        "         \n",
        "    xtemp = np.arange(len(unique))\n",
        "     \n",
        "    plt.bar(xtemp + n*width, counts, align='center', alpha=.7, width=width)\n",
        "    plt.xticks(xtemp, unique, rotation=45)\n",
        "    plt.xlabel('equipment type')\n",
        "    plt.ylabel(ylabel_text)\n",
        " \n",
        "plt.suptitle('relative amount of photos per type')\n",
        "plot_bar(y_train, loc='left')\n",
        "plot_bar(y_test, loc='right')\n",
        "plt.legend([\n",
        "    'train ({0} photos)'.format(len(y_train)), \n",
        "    'test ({0} photos)'.format(len(y_test))\n",
        "]);"
      ],
      "metadata": {
        "id": "_HN7xHKYGfjd"
      },
      "execution_count": null,
      "outputs": []
    },
    {
      "cell_type": "code",
      "source": [
        "from skimage.feature import hog\n",
        "from skimage.io import imread\n",
        "from skimage.transform import rescale\n",
        " \n",
        "dog = imread('/content/drive/MyDrive/Data/German_Shepherd.jpg', as_gray=True)\n",
        "# https://en.wikipedia.org/wiki/German_Shepherd#/media/File:Kim_at_14_weeks.jpg\n",
        " \n",
        "# scale down the image to one third\n",
        "dog = rescale(dog, 1/3, mode='reflect')\n",
        "\n",
        "# calculate the hog and return a visual representation.\n",
        "### YOUR CODE GOES HERE\n",
        "\n",
        " \n",
        "fig, ax = plt.subplots(1,2)\n",
        "fig.set_size_inches(8,6)\n",
        "# remove ticks and their labels\n",
        "[a.tick_params(bottom=False, left=False, labelbottom=False, labelleft=False) \n",
        "    for a in ax]\n",
        "\n",
        "# Create a subplot and plot original image and HOG image\n",
        "### YOUR CODE GOES HERE"
      ],
      "metadata": {
        "id": "Wx-00ZWUGilq"
      },
      "execution_count": null,
      "outputs": []
    },
    {
      "cell_type": "code",
      "source": [
        "print('number of pixels: ', dog.shape[0] * dog.shape[1])\n",
        "print('number of hog features: ', dog_hog.shape[0])"
      ],
      "metadata": {
        "id": "UIB2baqeGpBZ"
      },
      "execution_count": null,
      "outputs": []
    },
    {
      "cell_type": "code",
      "source": [
        "from sklearn.base import BaseEstimator, TransformerMixin\n",
        " \n",
        "class RGB2GrayTransformer(BaseEstimator, TransformerMixin):\n",
        "    \"\"\"\n",
        "    Convert an array of RGB images to grayscale\n",
        "    \"\"\"\n",
        " # HOG can be computed only on grayscale images .\n",
        "    def __init__(self):\n",
        "        pass\n",
        " \n",
        "    def fit(self, X, y=None):\n",
        "        \"\"\"returns itself\"\"\"\n",
        "        return self\n",
        " \n",
        "    def transform(self, X, y=None):\n",
        "        \"\"\"perform the transformation and return an array\"\"\"\n",
        "        return np.array([skimage.color.rgb2gray(img) for img in X])\n",
        "     \n",
        " \n",
        "class HogTransformer(BaseEstimator, TransformerMixin):\n",
        "    \"\"\"\n",
        "    Expects an array of 2d arrays (1 channel images)\n",
        "    Calculates hog features for each img\n",
        "    \"\"\"\n",
        " \n",
        "    def __init__(self, y=None, orientations=9,\n",
        "                 pixels_per_cell=(8, 8),\n",
        "                 cells_per_block=(3, 3), block_norm='L2-Hys'):\n",
        "        self.y = y\n",
        "        self.orientations = orientations\n",
        "        self.pixels_per_cell = pixels_per_cell\n",
        "        self.cells_per_block = cells_per_block\n",
        "        self.block_norm = block_norm\n",
        " \n",
        "    def fit(self, X, y=None):\n",
        "        return self\n",
        " \n",
        "    def transform(self, X, y=None):\n",
        " \n",
        "        def local_hog(X):\n",
        "            return hog(X,\n",
        "                       orientations=self.orientations,\n",
        "                       pixels_per_cell=self.pixels_per_cell,\n",
        "                       cells_per_block=self.cells_per_block,\n",
        "                       block_norm=self.block_norm)\n",
        " \n",
        "        try: # parallel\n",
        "            return np.array([local_hog(img) for img in X])\n",
        "        except:\n",
        "            return np.array([local_hog(img) for img in X])"
      ],
      "metadata": {
        "id": "AEZLLYlRHmsX"
      },
      "execution_count": null,
      "outputs": []
    },
    {
      "cell_type": "code",
      "source": [
        "from sklearn.linear_model import SGDClassifier\n",
        "from sklearn.model_selection import cross_val_predict\n",
        "from sklearn.preprocessing import StandardScaler, Normalizer\n",
        "import skimage\n",
        " \n",
        "# create an instance of each transformer\n",
        "grayify = RGB2GrayTransformer()\n",
        "hogify = HogTransformer(\n",
        "    pixels_per_cell=(14, 14), \n",
        "    cells_per_block=(2,2), \n",
        "    orientations=9, \n",
        "    block_norm='L2-Hys'\n",
        ")\n",
        "scalify = StandardScaler()\n",
        " \n",
        "'''\n",
        "call fit_transform on each transform converting X_train step by step first convert RGB2Gray, \n",
        "then calculate HOG features and finally scale the images\n",
        "'''\n",
        "### YOUR CODE GOES HERE"
      ],
      "metadata": {
        "id": "UAkk2Gq4Hv-r",
        "colab": {
          "base_uri": "https://localhost:8080/",
          "height": 35
        },
        "outputId": "3db7d50e-1aba-4c06-8113-024b85dbda60"
      },
      "execution_count": null,
      "outputs": [
        {
          "output_type": "execute_result",
          "data": {
            "text/plain": [
              "'\\ncall fit_transform on each transform converting X_train step by step first convert RGB2Gray, \\nthen calculate HOG features and finally scale the images\\n'"
            ],
            "application/vnd.google.colaboratory.intrinsic+json": {
              "type": "string"
            }
          },
          "metadata": {},
          "execution_count": 9
        }
      ]
    },
    {
      "cell_type": "code",
      "source": [
        "# initialise the SGD classifier/ any MLP classifier\n",
        "\n",
        "### YOUR CODE GOES HERE\n"
      ],
      "metadata": {
        "id": "8-gGJVxJHyjt"
      },
      "execution_count": null,
      "outputs": []
    },
    {
      "cell_type": "code",
      "source": [
        "# Prepare test data by applying same transforms as train data\n",
        "\n",
        "### YOUR CODE GOES HERE\n"
      ],
      "metadata": {
        "id": "j_3you2rH1z9"
      },
      "execution_count": null,
      "outputs": []
    },
    {
      "cell_type": "code",
      "source": [
        "# Print the testing accuracy\n",
        "\n",
        "### YOUR CODE GOES HERE\n"
      ],
      "metadata": {
        "id": "wYxZnrdnH767"
      },
      "execution_count": null,
      "outputs": []
    },
    {
      "cell_type": "code",
      "source": [
        "# Plot confusion matrix\n",
        "\n",
        "### YOUR CODE GOES HERE\n"
      ],
      "metadata": {
        "id": "NM545d8PH-nS"
      },
      "execution_count": null,
      "outputs": []
    },
    {
      "cell_type": "code",
      "source": [
        "from mpl_toolkits.axes_grid1 import make_axes_locatable\n",
        " \n",
        "def plot_confusion_matrix(cmx, vmax1=None, vmax2=None, vmax3=None):\n",
        "    cmx_norm = 100*cmx / cmx.sum(axis=1, keepdims=True)\n",
        "    cmx_zero_diag = cmx_norm.copy()\n",
        " \n",
        "    np.fill_diagonal(cmx_zero_diag, 0)\n",
        " \n",
        "    fig, ax = plt.subplots(ncols=3)\n",
        "    fig.set_size_inches(12, 3)\n",
        "    [a.set_xticks(range(len(cmx)+1)) for a in ax]\n",
        "    [a.set_yticks(range(len(cmx)+1)) for a in ax]\n",
        "         \n",
        "    im1 = ax[0].imshow(cmx, vmax=vmax1)\n",
        "    ax[0].set_title('as is')\n",
        "    im2 = ax[1].imshow(cmx_norm, vmax=vmax2)\n",
        "    ax[1].set_title('%')\n",
        "    im3 = ax[2].imshow(cmx_zero_diag, vmax=vmax3)\n",
        "    ax[2].set_title('% and 0 diagonal')\n",
        " \n",
        "    dividers = [make_axes_locatable(a) for a in ax]\n",
        "    cax1, cax2, cax3 = [divider.append_axes(\"right\", size=\"5%\", pad=0.1) \n",
        "                        for divider in dividers]\n",
        " \n",
        "    fig.colorbar(im1, cax=cax1)\n",
        "    fig.colorbar(im2, cax=cax2)\n",
        "    fig.colorbar(im3, cax=cax3)\n",
        "    fig.tight_layout()\n",
        "     \n",
        "plot_confusion_matrix(cmx)\n",
        " \n",
        "# the types appear in this order\n",
        "print('\\n', sorted(np.unique(y_test)))"
      ],
      "metadata": {
        "id": "SeibCs1JID18"
      },
      "execution_count": null,
      "outputs": []
    },
    {
      "cell_type": "code",
      "source": [],
      "metadata": {
        "id": "fGj0Mf9QIOeK"
      },
      "execution_count": null,
      "outputs": []
    }
  ]
}